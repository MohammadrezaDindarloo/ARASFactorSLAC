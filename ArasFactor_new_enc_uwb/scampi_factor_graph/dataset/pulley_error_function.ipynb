{
 "cells": [
  {
   "cell_type": "code",
   "execution_count": 1,
   "metadata": {},
   "outputs": [],
   "source": [
    "import matplotlib.pyplot as plt\n",
    "import numpy as np\n",
    "from mpl_toolkits.mplot3d import Axes3D\n",
    "from mpl_toolkits.mplot3d.art3d import Poly3DCollection\n",
    "import csv\n",
    "import os\n",
    "direc = os.getcwd()"
   ]
  },
  {
   "cell_type": "code",
   "execution_count": 44,
   "metadata": {},
   "outputs": [],
   "source": [
    "rows = []\n",
    "with open(direc + \"/pulley_a_perturbation.csv\", 'r') as file:\n",
    "    csvreader = csv.reader(file)\n",
    "    header = next(csvreader)\n",
    "    for row in csvreader:\n",
    "        if (float(row[3]) < 1e-18):\n",
    "             rows.append(row)\n",
    "x = [float(row[0]) for row in rows]\n",
    "y = [float(row[1]) for row in rows]\n",
    "z = [float(row[2]) for row in rows]\n",
    "err = [float(row[3]) for row in rows]\n",
    "sum_err_calib = [float(row[4]) for row in rows]"
   ]
  },
  {
   "cell_type": "code",
   "execution_count": 45,
   "metadata": {},
   "outputs": [
    {
     "name": "stdout",
     "output_type": "stream",
     "text": [
      "Using matplotlib backend: QtAgg\n"
     ]
    }
   ],
   "source": [
    "%matplotlib\n",
    "fig = plt.figure()\n",
    "ax = fig.add_subplot(111, projection='3d')\n",
    "ax.stem(x, y, err)\n",
    "ax.scatter(-1.9874742031097412, -8.319656372070312, err[sum_err_calib.index(min(sum_err_calib))], s=50, color=\"black\")\n",
    "plt.show()"
   ]
  },
  {
   "cell_type": "code",
   "execution_count": 34,
   "metadata": {},
   "outputs": [
    {
     "name": "stdout",
     "output_type": "stream",
     "text": [
      "x min is:  -1.97747\n",
      "y min is:  -8.28966\n",
      "sum_err_calib is:  3.23121\n",
      "1.9832e-19\n"
     ]
    }
   ],
   "source": [
    "# -1.7965602546229, 4.832889384134232\n",
    "minerr = min(err)\n",
    "index_min = err.index(minerr)\n",
    "print(\"x min is: \", x[index_min])\n",
    "print(\"y min is: \", y[index_min])\n",
    "print(\"sum_err_calib is: \", sum_err_calib[index_min])\n",
    "print(min(err))\n"
   ]
  },
  {
   "cell_type": "code",
   "execution_count": 35,
   "metadata": {},
   "outputs": [
    {
     "name": "stdout",
     "output_type": "stream",
     "text": [
      "x min is:  -1.98747\n",
      "y min is:  -8.32966\n",
      "sum_err_calib is:  2.6758\n",
      "err is:  2.90518e-19\n"
     ]
    }
   ],
   "source": [
    "a = sum_err_calib.index(min(sum_err_calib))\n",
    "print(\"x min is: \", x[a])\n",
    "print(\"y min is: \", y[a])\n",
    "print(\"sum_err_calib is: \", sum_err_calib[a])\n",
    "print(\"err is: \", err[a])\n",
    "\n"
   ]
  },
  {
   "cell_type": "code",
   "execution_count": 181,
   "metadata": {},
   "outputs": [],
   "source": []
  },
  {
   "cell_type": "code",
   "execution_count": 182,
   "metadata": {},
   "outputs": [
    {
     "data": {
      "text/plain": [
       "array([[ 0.70886129,  0.57562789,  0.42921793, ...,  0.27541086,\n",
       "         0.42921793,  0.57562789],\n",
       "       [ 0.57562789,  0.4208019 ,  0.2570234 , ...,  0.09046523,\n",
       "         0.2570234 ,  0.4208019 ],\n",
       "       [ 0.42921793,  0.2570234 ,  0.08068791, ..., -0.09334004,\n",
       "         0.08068791,  0.2570234 ],\n",
       "       ...,\n",
       "       [ 0.27541086,  0.09046523, -0.09334004, ..., -0.26940744,\n",
       "        -0.09334004,  0.09046523],\n",
       "       [ 0.42921793,  0.2570234 ,  0.08068791, ..., -0.09334004,\n",
       "         0.08068791,  0.2570234 ],\n",
       "       [ 0.57562789,  0.4208019 ,  0.2570234 , ...,  0.09046523,\n",
       "         0.2570234 ,  0.4208019 ]])"
      ]
     },
     "execution_count": 182,
     "metadata": {},
     "output_type": "execute_result"
    }
   ],
   "source": []
  },
  {
   "cell_type": "code",
   "execution_count": null,
   "metadata": {},
   "outputs": [],
   "source": []
  }
 ],
 "metadata": {
  "kernelspec": {
   "display_name": "base",
   "language": "python",
   "name": "python3"
  },
  "language_info": {
   "codemirror_mode": {
    "name": "ipython",
    "version": 3
   },
   "file_extension": ".py",
   "mimetype": "text/x-python",
   "name": "python",
   "nbconvert_exporter": "python",
   "pygments_lexer": "ipython3",
   "version": "3.9.12"
  }
 },
 "nbformat": 4,
 "nbformat_minor": 2
}
